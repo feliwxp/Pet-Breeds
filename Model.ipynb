{
 "cells": [
  {
   "cell_type": "code",
   "execution_count": 2,
   "id": "a088c0a6",
   "metadata": {},
   "outputs": [
    {
     "name": "stderr",
     "output_type": "stream",
     "text": [
      "/Users/felicia/dsprojects/dsenv/lib/python3.9/site-packages/torchvision/io/image.py:11: UserWarning: Failed to load image Python extension: \n",
      "  warn(f\"Failed to load image Python extension: {e}\")\n"
     ]
    }
   ],
   "source": [
    "from fastai.vision.all import *"
   ]
  },
  {
   "cell_type": "code",
   "execution_count": 3,
   "id": "587ddbdd",
   "metadata": {},
   "outputs": [],
   "source": [
    "model = load_learner('export.pkl')"
   ]
  },
  {
   "cell_type": "code",
   "execution_count": 5,
   "id": "bdcc8a77",
   "metadata": {},
   "outputs": [
    {
     "data": {
      "text/html": [],
      "text/plain": [
       "<IPython.core.display.HTML object>"
      ]
     },
     "metadata": {},
     "output_type": "display_data"
    }
   ],
   "source": [
    "pred,pred_idx,probs = model.predict('pic.jpg')\n",
    "prob = np.array2string(probs[pred_idx].numpy())"
   ]
  },
  {
   "cell_type": "code",
   "execution_count": 7,
   "id": "3b828d21",
   "metadata": {},
   "outputs": [],
   "source": [
    "image = Image.open('pic.jpg')"
   ]
  },
  {
   "cell_type": "code",
   "execution_count": 17,
   "id": "e6db481e",
   "metadata": {},
   "outputs": [],
   "source": [
    "image = load_image('pic.jpg')"
   ]
  },
  {
   "cell_type": "code",
   "execution_count": 18,
   "id": "ec3a3b0c",
   "metadata": {},
   "outputs": [],
   "source": [
    "image = PILImage.create('pic.jpg')"
   ]
  },
  {
   "cell_type": "code",
   "execution_count": 19,
   "id": "5a0461b6",
   "metadata": {},
   "outputs": [
    {
     "data": {
      "text/html": [],
      "text/plain": [
       "<IPython.core.display.HTML object>"
      ]
     },
     "metadata": {},
     "output_type": "display_data"
    }
   ],
   "source": [
    "pred,pred_idx,probs = model.predict(image)\n",
    "prob = np.array2string(probs[pred_idx].numpy())"
   ]
  },
  {
   "cell_type": "code",
   "execution_count": 20,
   "id": "df974d07",
   "metadata": {},
   "outputs": [
    {
     "data": {
      "text/plain": [
       "'beagle'"
      ]
     },
     "execution_count": 20,
     "metadata": {},
     "output_type": "execute_result"
    }
   ],
   "source": [
    "pred"
   ]
  },
  {
   "cell_type": "code",
   "execution_count": null,
   "id": "a83f2d47",
   "metadata": {},
   "outputs": [],
   "source": []
  }
 ],
 "metadata": {
  "kernelspec": {
   "display_name": "dsenv",
   "language": "python",
   "name": "dsenv"
  },
  "language_info": {
   "codemirror_mode": {
    "name": "ipython",
    "version": 3
   },
   "file_extension": ".py",
   "mimetype": "text/x-python",
   "name": "python",
   "nbconvert_exporter": "python",
   "pygments_lexer": "ipython3",
   "version": "3.9.7"
  }
 },
 "nbformat": 4,
 "nbformat_minor": 5
}
